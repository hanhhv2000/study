{
 "metadata": {
  "language_info": {
   "codemirror_mode": {
    "name": "ipython",
    "version": 3
   },
   "file_extension": ".py",
   "mimetype": "text/x-python",
   "name": "python",
   "nbconvert_exporter": "python",
   "pygments_lexer": "ipython3",
   "version": "3.9.1-final"
  },
  "orig_nbformat": 2,
  "kernelspec": {
   "name": "python3",
   "display_name": "Python 3.9.1 64-bit",
   "metadata": {
    "interpreter": {
     "hash": "b89ff4abb5b5b53a256161c73b9997811481b29d5077211419309f62bda64171"
    }
   }
  }
 },
 "nbformat": 4,
 "nbformat_minor": 2,
 "cells": [
  {
   "cell_type": "code",
   "execution_count": null,
   "metadata": {
    "tags": []
   },
   "outputs": [],
   "source": [
    "from flask import Flask, render_template \n",
    "from flask_wtf import Form\n",
    "from wtforms import DateField\n",
    "from datetime import date\n",
    "\n",
    "app = Flask(__name__)\n",
    "#app.secret_key = 'SHH!'\n",
    "\n",
    "#class DateForm(Form):\n",
    " #   dt = DateField('Pick a Date', format=\"%m/%d/%Y\")\n",
    "\n",
    "#@app.route(\"/vort\", methods=['POST','GET'])\n",
    "#def vort():\n",
    " #   form = DateForm()\n",
    "  #  if form.validate_on_submit():\n",
    "   #     return form.dt.data.strftime('%x')\n",
    "    #return render_template('vort.html', form=form)\n",
    "\n",
    "\n",
    "@app.route(\"/\")\n",
    "def home():\n",
    "    return render_template(\"home.html\")   \n",
    "\n",
    "@app.route(\"/template\")\n",
    "def template():\n",
    "    return render_template(\"template.html\")\n",
    "\n",
    "@app.route(\"/about\")\n",
    "def about():\n",
    "    return render_template(\"about.html\")   \n",
    "\n",
    "#@app.route(\"/home\")\n",
    "#def about():\n",
    " #   return render_template(\"home.html\")       \n",
    "    \n",
    "if __name__ == \"__main__\":\n",
    "    app.run(host='localhost', port=5000)"
   ]
  },
  {
   "cell_type": "code",
   "execution_count": null,
   "metadata": {},
   "outputs": [],
   "source": []
  }
 ]
}