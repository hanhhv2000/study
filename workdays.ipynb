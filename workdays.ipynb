{
 "metadata": {
  "language_info": {
   "codemirror_mode": {
    "name": "ipython",
    "version": 3
   },
   "file_extension": ".py",
   "mimetype": "text/x-python",
   "name": "python",
   "nbconvert_exporter": "python",
   "pygments_lexer": "ipython3",
   "version": "3.9.1-final"
  },
  "orig_nbformat": 2,
  "kernelspec": {
   "name": "python3",
   "display_name": "Python 3.9.1 64-bit",
   "metadata": {
    "interpreter": {
     "hash": "b89ff4abb5b5b53a256161c73b9997811481b29d5077211419309f62bda64171"
    }
   }
  }
 },
 "nbformat": 4,
 "nbformat_minor": 2,
 "cells": [
  {
   "cell_type": "code",
   "execution_count": 1,
   "metadata": {
    "tags": []
   },
   "outputs": [
    {
     "output_type": "stream",
     "name": "stdout",
     "text": [
      "['22/02/2021', '04/01/2021', '20/11/2020', '09/10/2020', '27/08/2020', '16/07/2020', '04/06/2020', '21/04/2020', '09/03/2020', '20/01/2020']\n"
     ]
    }
   ],
   "source": [
    "from networkdays import networkdays\n",
    "import datetime\n",
    "HOLIDAYS = { datetime.date(2020, 1, 1), datetime.date(2020, 1, 22), datetime.date(2020, 1, 24), datetime.date(2020, 1, 27), datetime.date(2020, 1, 28), datetime.date(2020, 1, 29), datetime.date(2020, 4, 2), datetime.date(2020, 4, 30), datetime.date(2020, 5, 1), datetime.date(2020, 9, 2), datetime.date(2021, 1, 1), datetime.date(2021, 2, 10), datetime.date(2021, 2, 11), datetime.date(2021, 2, 12), datetime.date(2021, 2, 15), datetime.date(2021, 2, 16), datetime.date(2021, 4, 21), datetime.date(2021, 4, 30), datetime.date(2021, 9, 2), datetime.date(2021, 9, 3)}  # define a Holidays list\n",
    "dat = datetime.datetime.now().date()\n",
    "\n",
    "days = networkdays.Networkdays(\n",
    "            datetime.date(2020, 1, 1),  # start date\n",
    "            dat,  # end date\n",
    "            HOLIDAYS ) # list of Holidays )\n",
    " \n",
    "daywork =[]\n",
    "\n",
    "for i in range(len(days.networkdays())-1,-1,-30):\n",
    "    b = days.networkdays()[i].strftime(\"%d/%m/%Y\")\n",
    "    daywork.append(b)\n",
    "    \n",
    "print(daywork)    \n"
   ]
  },
  {
   "cell_type": "code",
   "execution_count": null,
   "metadata": {},
   "outputs": [],
   "source": []
  }
 ]
}