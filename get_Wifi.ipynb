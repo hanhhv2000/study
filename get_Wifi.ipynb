{
 "metadata": {
  "language_info": {
   "codemirror_mode": {
    "name": "ipython",
    "version": 3
   },
   "file_extension": ".py",
   "mimetype": "text/x-python",
   "name": "python",
   "nbconvert_exporter": "python",
   "pygments_lexer": "ipython3",
   "version": "3.9.1-final"
  },
  "orig_nbformat": 2,
  "kernelspec": {
   "name": "python3",
   "display_name": "Python 3.9.1 64-bit",
   "metadata": {
    "interpreter": {
     "hash": "b89ff4abb5b5b53a256161c73b9997811481b29d5077211419309f62bda64171"
    }
   }
  }
 },
 "nbformat": 4,
 "nbformat_minor": 2,
 "cells": [
  {
   "cell_type": "code",
   "execution_count": 9,
   "metadata": {},
   "outputs": [
    {
     "output_type": "stream",
     "name": "stdout",
     "text": [
      "VNPT-IT2@42PNT\nVNPT-IT2@42PNT\n"
     ]
    }
   ],
   "source": [
    "import pywifi\n",
    "from pywifi import const # quote some definitions\n",
    "#import pywifi\n",
    "#from pywifi import const #Reference some constants\n",
    " #Determine whether you are connected to wifi\n",
    "def gic():\n",
    "         #Create a wireless network card\n",
    "    wifi=pywifi.PyWiFi()\n",
    "         #Get the first wireless network card\n",
    "    iface=wifi.interfaces()[0]\n",
    "         #List\n",
    "    # print(iface.name())\n",
    "         #Print network card connection status\n",
    "    if iface.status()==const.IFACE_CONNECTED:\n",
    "         print(\"Connected\")\n",
    "    else:\n",
    "         print(\"Not connected\")\n",
    " \n",
    " \n",
    " \n",
    "# gic()\n",
    " # Scan nearby wifi\n",
    "def bies():\n",
    "    wifi = pywifi.PyWiFi()\n",
    "    ifaces = wifi.interfaces()[0]\n",
    "         # Scan wifi\n",
    "    ifaces.scan()\n",
    "         # Get scan results\n",
    "    result = ifaces.scan_results()\n",
    "    for data in result:\n",
    "        print(data.ssid)\n",
    "    # print(result)\n",
    " \n",
    " \n",
    "bies()"
   ]
  },
  {
   "cell_type": "code",
   "execution_count": null,
   "metadata": {},
   "outputs": [],
   "source": []
  }
 ]
}