{
 "metadata": {
  "language_info": {
   "codemirror_mode": {
    "name": "ipython",
    "version": 3
   },
   "file_extension": ".py",
   "mimetype": "text/x-python",
   "name": "python",
   "nbconvert_exporter": "python",
   "pygments_lexer": "ipython3",
   "version": "3.9.1-final"
  },
  "orig_nbformat": 2,
  "kernelspec": {
   "name": "python3",
   "display_name": "Python 3.9.1 64-bit",
   "metadata": {
    "interpreter": {
     "hash": "b89ff4abb5b5b53a256161c73b9997811481b29d5077211419309f62bda64171"
    }
   }
  }
 },
 "nbformat": 4,
 "nbformat_minor": 2,
 "cells": [
  {
   "cell_type": "code",
   "execution_count": null,
   "metadata": {},
   "outputs": [],
   "source": [
    "import pandas as pd\n",
    "\n",
    "filename = 'table4.csv'\n",
    "column_names =['date','ma']\n",
    "my_csv = pd.read_csv(filename, names =column_names)\n",
    "# column = my_csv.column_name\n",
    "print(my_csv)\n"
   ]
  },
  {
   "cell_type": "code",
   "execution_count": null,
   "metadata": {
    "tags": []
   },
   "outputs": [],
   "source": [
    "import csv\n",
    "from sys import argv\n",
    "\n",
    "d = open(\"table4.csv\", \"r\")\n",
    "\n",
    "db = []\n",
    "\n",
    "for line in csv.reader(d):\n",
    "    if line['ma'].text =='AAA':\n",
    "        db.append(line)\n",
    "print(db)    "
   ]
  },
  {
   "cell_type": "code",
   "execution_count": null,
   "metadata": {
    "tags": []
   },
   "outputs": [],
   "source": [
    "import pandas as pd\n",
    "fields = ['date', 'ma']\n",
    "\n",
    "df = pd.read_csv('table4.csv', skipinitialspace=True)\n",
    "arr =[]\n",
    "for Ma in df.ma:\n",
    "    if Ma == 'AAA':\n",
    "        arr.append(df)\n",
    "print(arr)       \n",
    "\n",
    "# print(df[['ma']])\n",
    "# See the keys\n",
    "# print(df.keys())\n",
    "# See content in 'star_name'\n",
    "# print(df.ma)\n"
   ]
  },
  {
   "cell_type": "code",
   "execution_count": 33,
   "metadata": {
    "tags": []
   },
   "outputs": [
    {
     "output_type": "stream",
     "name": "stdout",
     "text": [
      "['12/03/2021', '0,00 / 0,00%', '16,20', '16,20', '16,20', '16,20', '16,20', '16,20', '0', 'AAA']\n"
     ]
    }
   ],
   "source": [
    "import csv\n",
    "\n",
    "with open('table4.csv','r') as csvFile:\n",
    "    rows = csv.reader(csvFile)\n",
    "    next(rows)\n",
    "#Works if the file is in the same folder, \n",
    "# Otherwise include the full path\n",
    "    for row in rows:\n",
    "        # print(row)\n",
    "        if row[9] == 'AAA' and row[0] == '12/03/2021':\n",
    "            print(row)\n",
    "        else:\n",
    "                "
   ]
  },
  {
   "cell_type": "code",
   "execution_count": 35,
   "metadata": {},
   "outputs": [
    {
     "output_type": "stream",
     "name": "stdout",
     "text": [
      "File exist\n"
     ]
    }
   ],
   "source": [
    "import os.path\n",
    "\n",
    "if os.path.isfile('table4.csv'):\n",
    "    print (\"File exist\")\n",
    "else:\n",
    "    print (\"File not exist\")"
   ]
  },
  {
   "cell_type": "code",
   "execution_count": 24,
   "metadata": {},
   "outputs": [
    {
     "output_type": "stream",
     "name": "stdout",
     "text": [
      "252\n26/03/2021 25/03/2021 24/03/2021 23/03/2021 22/03/2021 19/03/2021 18/03/2021 17/03/2021 16/03/2021 15/03/2021 12/03/2021 11/03/2021 10/03/2021 09/03/2021 08/03/2021 05/03/2021 04/03/2021 03/03/2021 02/03/2021 01/03/2021 26/02/2021 25/02/2021 24/02/2021 23/02/2021 22/02/2021 19/02/2021 18/02/2021 17/02/2021 09/02/2021 08/02/2021 05/02/2021 04/02/2021 03/02/2021 02/02/2021 01/02/2021 29/01/2021 28/01/2021 27/01/2021 26/01/2021 25/01/2021 22/01/2021 21/01/2021 20/01/2021 19/01/2021 18/01/2021 15/01/2021 14/01/2021 13/01/2021 12/01/2021 11/01/2021 08/01/2021 07/01/2021 06/01/2021 05/01/2021 04/01/2021 31/12/2020 30/12/2020 29/12/2020 28/12/2020 25/12/2020 24/12/2020 23/12/2020 22/12/2020 21/12/2020 18/12/2020 17/12/2020 16/12/2020 15/12/2020 14/12/2020 11/12/2020 10/12/2020 09/12/2020 08/12/2020 07/12/2020 04/12/2020 03/12/2020 02/12/2020 01/12/2020 30/11/2020 27/11/2020 26/11/2020 25/11/2020 24/11/2020 23/11/2020 20/11/2020 19/11/2020 18/11/2020 17/11/2020 16/11/2020 13/11/2020 12/11/2020 11/11/2020 10/11/2020 09/11/2020 06/11/2020 05/11/2020 04/11/2020 03/11/2020 02/11/2020 30/10/2020 29/10/2020 28/10/2020 27/10/2020 26/10/2020 23/10/2020 22/10/2020 21/10/2020 20/10/2020 19/10/2020 16/10/2020 15/10/2020 14/10/2020 13/10/2020 12/10/2020 09/10/2020 08/10/2020 07/10/2020 06/10/2020 05/10/2020 02/10/2020 01/10/2020 30/09/2020 29/09/2020 28/09/2020 25/09/2020 24/09/2020 23/09/2020 22/09/2020 21/09/2020 18/09/2020 17/09/2020 16/09/2020 15/09/2020 14/09/2020 11/09/2020 10/09/2020 09/09/2020 08/09/2020 07/09/2020 04/09/2020 03/09/2020 01/09/2020 31/08/2020 28/08/2020 27/08/2020 26/08/2020 25/08/2020 24/08/2020 21/08/2020 20/08/2020 19/08/2020 18/08/2020 17/08/2020 14/08/2020 13/08/2020 12/08/2020 11/08/2020 10/08/2020 07/08/2020 06/08/2020 05/08/2020 04/08/2020 03/08/2020 31/07/2020 30/07/2020 29/07/2020 28/07/2020 27/07/2020 24/07/2020 23/07/2020 22/07/2020 21/07/2020 20/07/2020 17/07/2020 16/07/2020 15/07/2020 14/07/2020 13/07/2020 10/07/2020 09/07/2020 08/07/2020 07/07/2020 06/07/2020 03/07/2020 02/07/2020 01/07/2020 30/06/2020 29/06/2020 26/06/2020 25/06/2020 24/06/2020 23/06/2020 22/06/2020 19/06/2020 18/06/2020 17/06/2020 16/06/2020 15/06/2020 12/06/2020 11/06/2020 10/06/2020 09/06/2020 08/06/2020 05/06/2020 04/06/2020 03/06/2020 02/06/2020 01/06/2020 29/05/2020 28/05/2020 27/05/2020 26/05/2020 25/05/2020 22/05/2020 21/05/2020 20/05/2020 19/05/2020 18/05/2020 15/05/2020 14/05/2020 13/05/2020 12/05/2020 11/05/2020 08/05/2020 07/05/2020 06/05/2020 05/05/2020 04/05/2020 29/04/2020 28/04/2020 27/04/2020 24/04/2020 23/04/2020 22/04/2020 21/04/2020 20/04/2020 17/04/2020 16/04/2020 15/04/2020 14/04/2020 13/04/2020 10/04/2020 09/04/2020 08/04/2020 07/04/2020 06/04/2020 03/04/2020 01/04/2020 31/03/2020 30/03/2020 27/03/2020 26/03/2020\n365\n13\n"
     ]
    }
   ],
   "source": [
    "import pandas as pd\n",
    "from bs4 import BeautifulSoup\n",
    "import requests\n",
    "import time\n",
    "import csv \n",
    "import json\n",
    "from networkdays import networkdays\n",
    "import datetime \n",
    "import os.path\n",
    "import math \n",
    "\n",
    "HOLIDAYS = { datetime.date(2020, 1, 1), datetime.date(2020, 1, 22), datetime.date(2020, 1, 24), datetime.date(2020, 1, 27), datetime.date(2020, 1, 28), datetime.date(2020, 1, 29), datetime.date(2020, 4, 2), datetime.date(2020, 4, 30), datetime.date(2020, 5, 1), datetime.date(2020, 9, 2), datetime.date(2021, 1, 1), datetime.date(2021, 2, 10), datetime.date(2021, 2, 11), datetime.date(2021, 2, 12), datetime.date(2021, 2, 15), datetime.date(2021, 2, 16), datetime.date(2021, 4, 21), datetime.date(2021, 4, 30), datetime.date(2021, 9, 2), datetime.date(2021, 9, 3)}  # define a Holidays list, \n",
    "\n",
    "\n",
    "\n",
    "def date_function(so_ngay,day_jump):\n",
    "    \n",
    "    dat = datetime.datetime.now() -  datetime.timedelta(days = so_ngay)\n",
    "    days = networkdays.Networkdays( dat.date(), \n",
    "                    datetime.datetime.now().date(),  # end date --current day\n",
    "                    HOLIDAYS )\n",
    "    daywork =[]\n",
    "    for i in range(len(days.networkdays())-1,-1,day_jump):\n",
    "        b = days.networkdays()[i].strftime(\"%d/%m/%Y\")\n",
    "        daywork.append(b)\n",
    "    return daywork    \n",
    "t =  date_function(365,-1)  \n",
    "print(len(t)) \n",
    "print(' '.join(t))\n",
    "\n",
    "date_format = \"%d/%m/%Y\"\n",
    "a = datetime.datetime.now()#datetime.datetime.strptime('8/18/2008', date_format)\n",
    "\n",
    "b = datetime.datetime.strptime('26/03/2020', date_format)\n",
    "delta = a-b\n",
    "print(delta.days) # that's it\n",
    "day_ = int(delta.days)/30\n",
    "ceil_value  = math.ceil(day_)\n",
    "print(ceil_value)\n",
    "# dat = datetime.datetime.now() -  datetime.timedelta(days = so_ngay)\n"
   ]
  },
  {
   "cell_type": "code",
   "execution_count": null,
   "metadata": {},
   "outputs": [],
   "source": []
  }
 ]
}